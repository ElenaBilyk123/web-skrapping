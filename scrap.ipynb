{
 "cells": [
  {
   "cell_type": "code",
   "execution_count": 10,
   "metadata": {},
   "outputs": [
    {
     "name": "stdout",
     "output_type": "stream",
     "text": [
      " сегодня в 03:24 - Расширяемый Django: как написать database backend? - https://habr.comhref1\n",
      " вчера в 23:00 - Все, что вы хотели знать о времени, но боялись спросить - https://habr.comhref1\n",
      " вчера в 19:51 - Чини опять свою Теслу сам, тыжпрограммист - https://habr.comhref1\n",
      " вчера в 17:48 - Выгрузка HDFS FSImage в Hive для мониторинга и аналитики: руководство к действию - https://habr.comhref1\n",
      " вчера в 17:24 - Effector — убийца Redux? Туториал с нуля. Часть 1 - https://habr.comhref1\n"
     ]
    }
   ],
   "source": [
    "import requests\n",
    "from bs4 import BeautifulSoup\n",
    "\n",
    "HEADERS = {'Accept': 'text/html,application/xhtml+xml,application/xml;q=0.9,image/avif,image/webp,image/apng,*/*;q=0.8,application/signed-exchange;v=b3;q=0.9',\n",
    "'Accept-Encoding':'gzip, deflate, br',\n",
    "'Accept-Language': 'ru,en;q=0.9',\n",
    "'Cache-Control': 'max-age=0',\n",
    "'Connection': 'keep-alive',\n",
    "'Cookie': '_ym_d=1628840683; _ym_uid=1628840683355101683; _ga=GA1.2.137596937.1628841988; fl=ru; hl=ru; feature_streaming_comments=true; _gid=GA1.2.1021543475.1641571984; habr_web_home=ARTICLES_LIST_ALL; _ym_isad=1; visited_articles=599735:203282; SLG_GWPT_Show_Hide_tmp=1; SLG_wptGlobTipTmp=1',\n",
    "'Host': 'habr.com',\n",
    "'Referer': 'https://github.com/netology-code/py-homeworks-advanced/tree/master/6.Web-scrapping',\n",
    "'sec-ch-ua': '\"Chromium\";v=\"94\", \"Yandex\";v=\"21\", \";Not A Brand\";v=\"99\"',\n",
    "'sec-ch-ua-mobile': '?0',\n",
    "'sec-ch-ua-platform': '\"Windows\"',\n",
    "'Sec-Fetch-Dest': 'document',\n",
    "'Sec-Fetch-Mode': 'navigate',\n",
    "'Sec-Fetch-Site': 'same-origin',\n",
    "'Sec-Fetch-User': '?1',\n",
    "'Upgrade-Insecure-Requests':'1',\n",
    "'User-Agent': 'Mozilla/5.0 (Windows NT 10.0; Win64; x64) AppleWebKit/537.36 (KHTML, like Gecko) Chrome/94.0.4606.85 YaBrowser/21.11.4.727 Yowser/2.5 Safari/537.36'}\n",
    "\n",
    "\n",
    "KEYWORDS = ['JavaScript', 'Big Data', 'Программирование', 'Python']\n",
    "\n",
    "SOURCE = requests.get('https://habr.com/ru/all/', headers= HEADERS)\n",
    "\n",
    "soup = BeautifulSoup(SOURCE.text, features = 'html.parser')\n",
    "\n",
    "articles = soup.find_all('article')\n",
    "\n",
    "#print(articles)\n",
    "\n",
    "for article in articles :\n",
    "\n",
    "    hubs = article.find_all(class_ = 'tm-article-snippet__hubs-item')\n",
    "    #print(hubs)\n",
    "    hubs = set(hub.find('span').text for hub in hubs)\n",
    "    #print(hubs)\n",
    "    data = article.find('time').text\n",
    "    heading = article.find('h2', class_= 'tm-article-snippet__title tm-article-snippet__title_h2').text\n",
    "    href1 = article.find('a', class_ = 'tm-article-snippet__title-link').get('href')\n",
    "    url = f\"{'https://habr.com'}{'href1'}\"\n",
    "    #print(url)\n",
    "\n",
    "    for hub in hubs: \n",
    "        #print(hub)\n",
    "        if any([hub in desired for desired in KEYWORDS]):\n",
    "            conclusion =  (f' {data} - {heading} - {url}')\n",
    "            print(conclusion)\n"
   ]
  }
 ],
 "metadata": {
  "kernelspec": {
   "display_name": "Python 3.11.0 64-bit",
   "language": "python",
   "name": "python3"
  },
  "language_info": {
   "codemirror_mode": {
    "name": "ipython",
    "version": 3
   },
   "file_extension": ".py",
   "mimetype": "text/x-python",
   "name": "python",
   "nbconvert_exporter": "python",
   "pygments_lexer": "ipython3",
   "version": "3.11.0"
  },
  "orig_nbformat": 4,
  "vscode": {
   "interpreter": {
    "hash": "5238573367df39f7286bb46f9ff5f08f63a01a80960060ce41e3c79b190280fa"
   }
  }
 },
 "nbformat": 4,
 "nbformat_minor": 2
}
